{
 "cells": [
  {
   "cell_type": "code",
   "execution_count": 154,
   "id": "4e8f9d88-5a81-4bdf-bb57-4de07911d3f9",
   "metadata": {
    "tags": []
   },
   "outputs": [
    {
     "name": "stdout",
     "output_type": "stream",
     "text": [
      "Requirement already satisfied: numpy in /opt/conda/lib/python3.10/site-packages (1.26.0)\n",
      "Requirement already satisfied: scikit-learn in /opt/conda/lib/python3.10/site-packages (1.0.1)\n",
      "Requirement already satisfied: pandas in /opt/conda/lib/python3.10/site-packages (1.4.4)\n",
      "Requirement already satisfied: scipy>=1.1.0 in /opt/conda/lib/python3.10/site-packages (from scikit-learn) (1.11.3)\n",
      "Requirement already satisfied: joblib>=0.11 in /opt/conda/lib/python3.10/site-packages (from scikit-learn) (1.3.2)\n",
      "Requirement already satisfied: threadpoolctl>=2.0.0 in /opt/conda/lib/python3.10/site-packages (from scikit-learn) (2.2.0)\n",
      "Requirement already satisfied: python-dateutil>=2.8.1 in /opt/conda/lib/python3.10/site-packages (from pandas) (2.8.2)\n",
      "Requirement already satisfied: pytz>=2020.1 in /opt/conda/lib/python3.10/site-packages (from pandas) (2022.1)\n",
      "Requirement already satisfied: six>=1.5 in /opt/conda/lib/python3.10/site-packages (from python-dateutil>=2.8.1->pandas) (1.16.0)\n",
      "\u001b[33mWARNING: Running pip as the 'root' user can result in broken permissions and conflicting behaviour with the system package manager. It is recommended to use a virtual environment instead: https://pip.pypa.io/warnings/venv\u001b[0m\u001b[33m\n",
      "\u001b[0m\n",
      "\u001b[1m[\u001b[0m\u001b[34;49mnotice\u001b[0m\u001b[1;39;49m]\u001b[0m\u001b[39;49m A new release of pip is available: \u001b[0m\u001b[31;49m23.2.1\u001b[0m\u001b[39;49m -> \u001b[0m\u001b[32;49m23.3.1\u001b[0m\n",
      "\u001b[1m[\u001b[0m\u001b[34;49mnotice\u001b[0m\u001b[1;39;49m]\u001b[0m\u001b[39;49m To update, run: \u001b[0m\u001b[32;49mpip install --upgrade pip\u001b[0m\n",
      "Note: you may need to restart the kernel to use updated packages.\n"
     ]
    }
   ],
   "source": [
    "%pip install numpy scikit-learn pandas"
   ]
  },
  {
   "cell_type": "code",
   "execution_count": 155,
   "id": "528ea5fa-584a-47cd-ac18-8cc2b1bc24f0",
   "metadata": {
    "tags": []
   },
   "outputs": [],
   "source": [
    "import pandas as pd"
   ]
  },
  {
   "cell_type": "code",
   "execution_count": 156,
   "id": "15bf0fcc-41ac-4ba1-bad9-f3d09185e4ee",
   "metadata": {
    "tags": []
   },
   "outputs": [
    {
     "name": "stderr",
     "output_type": "stream",
     "text": [
      "/tmp/ipykernel_59/1091835850.py:1: DtypeWarning: Columns (10) have mixed types. Specify dtype option on import or set low_memory=False.\n",
      "  data = pd.read_csv('s3://losterosundatathon2023/global_power_plant_database.csv')[['country','name','latitude','longitude','primary_fuel','capacity_mw']]\n"
     ]
    }
   ],
   "source": [
    "data = pd.read_csv('s3://losterosundatathon2023/global_power_plant_database.csv')[['country','name','latitude','longitude','primary_fuel','capacity_mw']]\n",
    "\n",
    "countries = ['ARG']#['ARG','URY','BRA']"
   ]
  },
  {
   "cell_type": "code",
   "execution_count": 157,
   "id": "630e5c4b-6db3-4a77-9bce-5ac143959850",
   "metadata": {
    "tags": []
   },
   "outputs": [
    {
     "name": "stdout",
     "output_type": "stream",
     "text": [
      "<class 'pandas.core.frame.DataFrame'>\n",
      "RangeIndex: 34936 entries, 0 to 34935\n",
      "Data columns (total 6 columns):\n",
      " #   Column        Non-Null Count  Dtype  \n",
      "---  ------        --------------  -----  \n",
      " 0   country       34936 non-null  object \n",
      " 1   name          34936 non-null  object \n",
      " 2   latitude      34936 non-null  float64\n",
      " 3   longitude     34936 non-null  float64\n",
      " 4   primary_fuel  34936 non-null  object \n",
      " 5   capacity_mw   34936 non-null  float64\n",
      "dtypes: float64(3), object(3)\n",
      "memory usage: 1.6+ MB\n"
     ]
    }
   ],
   "source": [
    "data.info()"
   ]
  },
  {
   "cell_type": "code",
   "execution_count": 158,
   "id": "1d5d73c8-fe6f-411d-a4a3-236219858978",
   "metadata": {
    "tags": []
   },
   "outputs": [
    {
     "data": {
      "text/html": [
       "<div>\n",
       "<style scoped>\n",
       "    .dataframe tbody tr th:only-of-type {\n",
       "        vertical-align: middle;\n",
       "    }\n",
       "\n",
       "    .dataframe tbody tr th {\n",
       "        vertical-align: top;\n",
       "    }\n",
       "\n",
       "    .dataframe thead th {\n",
       "        text-align: right;\n",
       "    }\n",
       "</style>\n",
       "<table border=\"1\" class=\"dataframe\">\n",
       "  <thead>\n",
       "    <tr style=\"text-align: right;\">\n",
       "      <th></th>\n",
       "      <th>country</th>\n",
       "      <th>name</th>\n",
       "      <th>latitude</th>\n",
       "      <th>longitude</th>\n",
       "      <th>primary_fuel</th>\n",
       "      <th>capacity_mw</th>\n",
       "    </tr>\n",
       "  </thead>\n",
       "  <tbody>\n",
       "    <tr>\n",
       "      <th>0</th>\n",
       "      <td>AFG</td>\n",
       "      <td>Kajaki Hydroelectric Power Plant Afghanistan</td>\n",
       "      <td>32.322</td>\n",
       "      <td>65.1190</td>\n",
       "      <td>Hydro</td>\n",
       "      <td>33.0</td>\n",
       "    </tr>\n",
       "    <tr>\n",
       "      <th>1</th>\n",
       "      <td>AFG</td>\n",
       "      <td>Kandahar DOG</td>\n",
       "      <td>31.670</td>\n",
       "      <td>65.7950</td>\n",
       "      <td>Solar</td>\n",
       "      <td>10.0</td>\n",
       "    </tr>\n",
       "    <tr>\n",
       "      <th>2</th>\n",
       "      <td>AFG</td>\n",
       "      <td>Kandahar JOL</td>\n",
       "      <td>31.623</td>\n",
       "      <td>65.7920</td>\n",
       "      <td>Solar</td>\n",
       "      <td>10.0</td>\n",
       "    </tr>\n",
       "    <tr>\n",
       "      <th>3</th>\n",
       "      <td>AFG</td>\n",
       "      <td>Mahipar Hydroelectric Power Plant Afghanistan</td>\n",
       "      <td>34.556</td>\n",
       "      <td>69.4787</td>\n",
       "      <td>Hydro</td>\n",
       "      <td>66.0</td>\n",
       "    </tr>\n",
       "    <tr>\n",
       "      <th>4</th>\n",
       "      <td>AFG</td>\n",
       "      <td>Naghlu Dam Hydroelectric Power Plant Afghanistan</td>\n",
       "      <td>34.641</td>\n",
       "      <td>69.7170</td>\n",
       "      <td>Hydro</td>\n",
       "      <td>100.0</td>\n",
       "    </tr>\n",
       "  </tbody>\n",
       "</table>\n",
       "</div>"
      ],
      "text/plain": [
       "  country                                              name  latitude  \\\n",
       "0     AFG      Kajaki Hydroelectric Power Plant Afghanistan    32.322   \n",
       "1     AFG                                      Kandahar DOG    31.670   \n",
       "2     AFG                                      Kandahar JOL    31.623   \n",
       "3     AFG     Mahipar Hydroelectric Power Plant Afghanistan    34.556   \n",
       "4     AFG  Naghlu Dam Hydroelectric Power Plant Afghanistan    34.641   \n",
       "\n",
       "   longitude primary_fuel  capacity_mw  \n",
       "0    65.1190        Hydro         33.0  \n",
       "1    65.7950        Solar         10.0  \n",
       "2    65.7920        Solar         10.0  \n",
       "3    69.4787        Hydro         66.0  \n",
       "4    69.7170        Hydro        100.0  "
      ]
     },
     "execution_count": 158,
     "metadata": {},
     "output_type": "execute_result"
    }
   ],
   "source": [
    "data.head()"
   ]
  },
  {
   "cell_type": "code",
   "execution_count": 159,
   "id": "dd02a28f-b3c3-45e6-a516-feff13234c11",
   "metadata": {
    "tags": []
   },
   "outputs": [
    {
     "data": {
      "text/html": [
       "<div>\n",
       "<style scoped>\n",
       "    .dataframe tbody tr th:only-of-type {\n",
       "        vertical-align: middle;\n",
       "    }\n",
       "\n",
       "    .dataframe tbody tr th {\n",
       "        vertical-align: top;\n",
       "    }\n",
       "\n",
       "    .dataframe thead th {\n",
       "        text-align: right;\n",
       "    }\n",
       "</style>\n",
       "<table border=\"1\" class=\"dataframe\">\n",
       "  <thead>\n",
       "    <tr style=\"text-align: right;\">\n",
       "      <th></th>\n",
       "      <th>country</th>\n",
       "      <th>name</th>\n",
       "      <th>latitude</th>\n",
       "      <th>longitude</th>\n",
       "      <th>primary_fuel</th>\n",
       "      <th>capacity_mw</th>\n",
       "    </tr>\n",
       "  </thead>\n",
       "  <tbody>\n",
       "    <tr>\n",
       "      <th>139</th>\n",
       "      <td>ARG</td>\n",
       "      <td>COMODORO RIVADAVIA - ANTONIO MORAN</td>\n",
       "      <td>-45.8467</td>\n",
       "      <td>-67.4964</td>\n",
       "      <td>Wind</td>\n",
       "      <td>16.56</td>\n",
       "    </tr>\n",
       "    <tr>\n",
       "      <th>238</th>\n",
       "      <td>ARG</td>\n",
       "      <td>GENERAL ACHA</td>\n",
       "      <td>-37.4309</td>\n",
       "      <td>-64.7160</td>\n",
       "      <td>Wind</td>\n",
       "      <td>1.80</td>\n",
       "    </tr>\n",
       "    <tr>\n",
       "      <th>264</th>\n",
       "      <td>ARG</td>\n",
       "      <td>MAYOR BURATOVICH</td>\n",
       "      <td>-39.2291</td>\n",
       "      <td>-62.6497</td>\n",
       "      <td>Wind</td>\n",
       "      <td>2.02</td>\n",
       "    </tr>\n",
       "    <tr>\n",
       "      <th>278</th>\n",
       "      <td>ARG</td>\n",
       "      <td>PARQUE EOLICO ARAUCO SAPEM I</td>\n",
       "      <td>-28.6684</td>\n",
       "      <td>-66.7524</td>\n",
       "      <td>Wind</td>\n",
       "      <td>25.20</td>\n",
       "    </tr>\n",
       "    <tr>\n",
       "      <th>279</th>\n",
       "      <td>ARG</td>\n",
       "      <td>PARQUE EOLICO ARAUCO SAPEM II</td>\n",
       "      <td>-28.6684</td>\n",
       "      <td>-66.7524</td>\n",
       "      <td>Wind</td>\n",
       "      <td>25.20</td>\n",
       "    </tr>\n",
       "  </tbody>\n",
       "</table>\n",
       "</div>"
      ],
      "text/plain": [
       "    country                                name  latitude  longitude  \\\n",
       "139     ARG  COMODORO RIVADAVIA - ANTONIO MORAN  -45.8467   -67.4964   \n",
       "238     ARG                        GENERAL ACHA  -37.4309   -64.7160   \n",
       "264     ARG                    MAYOR BURATOVICH  -39.2291   -62.6497   \n",
       "278     ARG        PARQUE EOLICO ARAUCO SAPEM I  -28.6684   -66.7524   \n",
       "279     ARG       PARQUE EOLICO ARAUCO SAPEM II  -28.6684   -66.7524   \n",
       "\n",
       "    primary_fuel  capacity_mw  \n",
       "139         Wind        16.56  \n",
       "238         Wind         1.80  \n",
       "264         Wind         2.02  \n",
       "278         Wind        25.20  \n",
       "279         Wind        25.20  "
      ]
     },
     "execution_count": 159,
     "metadata": {},
     "output_type": "execute_result"
    }
   ],
   "source": [
    "wind_plants = data.loc[(data['country'].isin(countries)) & (data['primary_fuel']=='Wind')]\n",
    "wind_plants.to_csv(\"s3://losterosundatathon2023/wind_plants.csv\")\n",
    "wind_plants.head()"
   ]
  },
  {
   "cell_type": "code",
   "execution_count": 160,
   "id": "2a4cc1ca-7c27-4ad3-8030-88d332f9b179",
   "metadata": {
    "tags": []
   },
   "outputs": [
    {
     "data": {
      "text/html": [
       "<div>\n",
       "<style scoped>\n",
       "    .dataframe tbody tr th:only-of-type {\n",
       "        vertical-align: middle;\n",
       "    }\n",
       "\n",
       "    .dataframe tbody tr th {\n",
       "        vertical-align: top;\n",
       "    }\n",
       "\n",
       "    .dataframe thead th {\n",
       "        text-align: right;\n",
       "    }\n",
       "</style>\n",
       "<table border=\"1\" class=\"dataframe\">\n",
       "  <thead>\n",
       "    <tr style=\"text-align: right;\">\n",
       "      <th></th>\n",
       "      <th>country</th>\n",
       "      <th>name</th>\n",
       "      <th>latitude</th>\n",
       "      <th>longitude</th>\n",
       "      <th>primary_fuel</th>\n",
       "      <th>capacity_mw</th>\n",
       "    </tr>\n",
       "  </thead>\n",
       "  <tbody>\n",
       "    <tr>\n",
       "      <th>135</th>\n",
       "      <td>ARG</td>\n",
       "      <td>CHIMBERA 1</td>\n",
       "      <td>-31.9881</td>\n",
       "      <td>-68.5402</td>\n",
       "      <td>Solar</td>\n",
       "      <td>2.0</td>\n",
       "    </tr>\n",
       "    <tr>\n",
       "      <th>218</th>\n",
       "      <td>ARG</td>\n",
       "      <td>Cafayate</td>\n",
       "      <td>-26.0400</td>\n",
       "      <td>-65.9300</td>\n",
       "      <td>Solar</td>\n",
       "      <td>80.0</td>\n",
       "    </tr>\n",
       "    <tr>\n",
       "      <th>219</th>\n",
       "      <td>ARG</td>\n",
       "      <td>Caldenes del Oeste</td>\n",
       "      <td>-33.6100</td>\n",
       "      <td>-65.4450</td>\n",
       "      <td>Solar</td>\n",
       "      <td>30.0</td>\n",
       "    </tr>\n",
       "    <tr>\n",
       "      <th>220</th>\n",
       "      <td>ARG</td>\n",
       "      <td>Cauchari</td>\n",
       "      <td>-23.8000</td>\n",
       "      <td>-66.8000</td>\n",
       "      <td>Solar</td>\n",
       "      <td>300.0</td>\n",
       "    </tr>\n",
       "    <tr>\n",
       "      <th>248</th>\n",
       "      <td>ARG</td>\n",
       "      <td>Iglesia-Guañizuil</td>\n",
       "      <td>-30.3400</td>\n",
       "      <td>-69.2700</td>\n",
       "      <td>Solar</td>\n",
       "      <td>80.0</td>\n",
       "    </tr>\n",
       "  </tbody>\n",
       "</table>\n",
       "</div>"
      ],
      "text/plain": [
       "    country                name  latitude  longitude primary_fuel  capacity_mw\n",
       "135     ARG          CHIMBERA 1  -31.9881   -68.5402        Solar          2.0\n",
       "218     ARG            Cafayate  -26.0400   -65.9300        Solar         80.0\n",
       "219     ARG  Caldenes del Oeste  -33.6100   -65.4450        Solar         30.0\n",
       "220     ARG            Cauchari  -23.8000   -66.8000        Solar        300.0\n",
       "248     ARG   Iglesia-Guañizuil  -30.3400   -69.2700        Solar         80.0"
      ]
     },
     "execution_count": 160,
     "metadata": {},
     "output_type": "execute_result"
    }
   ],
   "source": [
    "solar_plants = data.loc[(data['country'].isin(countries)) & (data['primary_fuel']=='Solar')]\n",
    "solar_plants.to_csv(\"s3://losterosundatathon2023/solar_plants.csv\")\n",
    "solar_plants.head()"
   ]
  },
  {
   "cell_type": "code",
   "execution_count": 161,
   "id": "6d35b246-b7df-4312-95b1-771d8ec51938",
   "metadata": {
    "tags": []
   },
   "outputs": [
    {
     "data": {
      "text/html": [
       "<div>\n",
       "<style scoped>\n",
       "    .dataframe tbody tr th:only-of-type {\n",
       "        vertical-align: middle;\n",
       "    }\n",
       "\n",
       "    .dataframe tbody tr th {\n",
       "        vertical-align: top;\n",
       "    }\n",
       "\n",
       "    .dataframe thead th {\n",
       "        text-align: right;\n",
       "    }\n",
       "</style>\n",
       "<table border=\"1\" class=\"dataframe\">\n",
       "  <thead>\n",
       "    <tr style=\"text-align: right;\">\n",
       "      <th></th>\n",
       "      <th>country</th>\n",
       "      <th>name</th>\n",
       "      <th>latitude</th>\n",
       "      <th>longitude</th>\n",
       "      <th>primary_fuel</th>\n",
       "      <th>capacity_mw</th>\n",
       "    </tr>\n",
       "  </thead>\n",
       "  <tbody>\n",
       "    <tr>\n",
       "      <th>94</th>\n",
       "      <td>ARG</td>\n",
       "      <td>AGUA DEL TORO</td>\n",
       "      <td>-34.5792</td>\n",
       "      <td>-68.9892</td>\n",
       "      <td>Hydro</td>\n",
       "      <td>130.0</td>\n",
       "    </tr>\n",
       "    <tr>\n",
       "      <th>95</th>\n",
       "      <td>ARG</td>\n",
       "      <td>ALICURA</td>\n",
       "      <td>-40.5800</td>\n",
       "      <td>-70.7489</td>\n",
       "      <td>Hydro</td>\n",
       "      <td>1050.0</td>\n",
       "    </tr>\n",
       "    <tr>\n",
       "      <th>99</th>\n",
       "      <td>ARG</td>\n",
       "      <td>ALVAREZ CONDARCO</td>\n",
       "      <td>-33.0452</td>\n",
       "      <td>-69.0516</td>\n",
       "      <td>Hydro</td>\n",
       "      <td>50.7</td>\n",
       "    </tr>\n",
       "    <tr>\n",
       "      <th>100</th>\n",
       "      <td>ARG</td>\n",
       "      <td>ARROYITO</td>\n",
       "      <td>-39.1009</td>\n",
       "      <td>-68.5982</td>\n",
       "      <td>Hydro</td>\n",
       "      <td>128.0</td>\n",
       "    </tr>\n",
       "    <tr>\n",
       "      <th>105</th>\n",
       "      <td>ARG</td>\n",
       "      <td>BENJAMIN REOLIN</td>\n",
       "      <td>-32.1883</td>\n",
       "      <td>-64.3233</td>\n",
       "      <td>Hydro</td>\n",
       "      <td>38.4</td>\n",
       "    </tr>\n",
       "  </tbody>\n",
       "</table>\n",
       "</div>"
      ],
      "text/plain": [
       "    country              name  latitude  longitude primary_fuel  capacity_mw\n",
       "94      ARG     AGUA DEL TORO  -34.5792   -68.9892        Hydro        130.0\n",
       "95      ARG           ALICURA  -40.5800   -70.7489        Hydro       1050.0\n",
       "99      ARG  ALVAREZ CONDARCO  -33.0452   -69.0516        Hydro         50.7\n",
       "100     ARG          ARROYITO  -39.1009   -68.5982        Hydro        128.0\n",
       "105     ARG   BENJAMIN REOLIN  -32.1883   -64.3233        Hydro         38.4"
      ]
     },
     "execution_count": 161,
     "metadata": {},
     "output_type": "execute_result"
    }
   ],
   "source": [
    "hydro_plants = data.loc[(data['country'].isin(countries)) & (data['primary_fuel']=='Hydro')]\n",
    "hydro_plants.to_csv(\"s3://losterosundatathon2023/hydro_plants.csv\")\n",
    "hydro_plants.head()"
   ]
  },
  {
   "cell_type": "code",
   "execution_count": 162,
   "id": "1b6f8a39-873c-4767-b95e-30d82da26b27",
   "metadata": {
    "tags": []
   },
   "outputs": [
    {
     "data": {
      "text/html": [
       "<div>\n",
       "<style scoped>\n",
       "    .dataframe tbody tr th:only-of-type {\n",
       "        vertical-align: middle;\n",
       "    }\n",
       "\n",
       "    .dataframe tbody tr th {\n",
       "        vertical-align: top;\n",
       "    }\n",
       "\n",
       "    .dataframe thead th {\n",
       "        text-align: right;\n",
       "    }\n",
       "</style>\n",
       "<table border=\"1\" class=\"dataframe\">\n",
       "  <thead>\n",
       "    <tr style=\"text-align: right;\">\n",
       "      <th></th>\n",
       "      <th>country</th>\n",
       "      <th>name</th>\n",
       "      <th>latitude</th>\n",
       "      <th>longitude</th>\n",
       "      <th>primary_fuel</th>\n",
       "      <th>capacity_mw</th>\n",
       "    </tr>\n",
       "  </thead>\n",
       "  <tbody>\n",
       "    <tr>\n",
       "      <th>101</th>\n",
       "      <td>ARG</td>\n",
       "      <td>ATUCHA I</td>\n",
       "      <td>-33.9670</td>\n",
       "      <td>-59.2059</td>\n",
       "      <td>Nuclear</td>\n",
       "      <td>370.0</td>\n",
       "    </tr>\n",
       "    <tr>\n",
       "      <th>102</th>\n",
       "      <td>ARG</td>\n",
       "      <td>ATUCHA II</td>\n",
       "      <td>-33.9674</td>\n",
       "      <td>-59.2045</td>\n",
       "      <td>Nuclear</td>\n",
       "      <td>745.0</td>\n",
       "    </tr>\n",
       "    <tr>\n",
       "      <th>229</th>\n",
       "      <td>ARG</td>\n",
       "      <td>EMBALSE</td>\n",
       "      <td>-32.2316</td>\n",
       "      <td>-64.4422</td>\n",
       "      <td>Nuclear</td>\n",
       "      <td>648.0</td>\n",
       "    </tr>\n",
       "  </tbody>\n",
       "</table>\n",
       "</div>"
      ],
      "text/plain": [
       "    country       name  latitude  longitude primary_fuel  capacity_mw\n",
       "101     ARG   ATUCHA I  -33.9670   -59.2059      Nuclear        370.0\n",
       "102     ARG  ATUCHA II  -33.9674   -59.2045      Nuclear        745.0\n",
       "229     ARG    EMBALSE  -32.2316   -64.4422      Nuclear        648.0"
      ]
     },
     "execution_count": 162,
     "metadata": {},
     "output_type": "execute_result"
    }
   ],
   "source": [
    "nuclear_plants = data.loc[(data['country'].isin(countries)) & (data['primary_fuel']=='Nuclear')]\n",
    "nuclear_plants.to_csv(\"s3://losterosundatathon2023/nuclear_plants.csv\")\n",
    "nuclear_plants.head()"
   ]
  },
  {
   "cell_type": "code",
   "execution_count": 163,
   "id": "963a8d7f-feed-4ae9-93cb-b801a718d29f",
   "metadata": {
    "tags": []
   },
   "outputs": [
    {
     "data": {
      "text/html": [
       "<div>\n",
       "<style scoped>\n",
       "    .dataframe tbody tr th:only-of-type {\n",
       "        vertical-align: middle;\n",
       "    }\n",
       "\n",
       "    .dataframe tbody tr th {\n",
       "        vertical-align: top;\n",
       "    }\n",
       "\n",
       "    .dataframe thead th {\n",
       "        text-align: right;\n",
       "    }\n",
       "</style>\n",
       "<table border=\"1\" class=\"dataframe\">\n",
       "  <thead>\n",
       "    <tr style=\"text-align: right;\">\n",
       "      <th></th>\n",
       "      <th>country</th>\n",
       "      <th>name</th>\n",
       "      <th>latitude</th>\n",
       "      <th>longitude</th>\n",
       "      <th>primary_fuel</th>\n",
       "      <th>capacity_mw</th>\n",
       "    </tr>\n",
       "  </thead>\n",
       "  <tbody>\n",
       "    <tr>\n",
       "      <th>96</th>\n",
       "      <td>ARG</td>\n",
       "      <td>ALMIRANTE BROWN</td>\n",
       "      <td>-34.8386</td>\n",
       "      <td>-58.4033</td>\n",
       "      <td>Oil</td>\n",
       "      <td>25.000</td>\n",
       "    </tr>\n",
       "    <tr>\n",
       "      <th>98</th>\n",
       "      <td>ARG</td>\n",
       "      <td>ALUMINE</td>\n",
       "      <td>-39.2145</td>\n",
       "      <td>-70.9157</td>\n",
       "      <td>Oil</td>\n",
       "      <td>1.904</td>\n",
       "    </tr>\n",
       "    <tr>\n",
       "      <th>103</th>\n",
       "      <td>ARG</td>\n",
       "      <td>BANDERA</td>\n",
       "      <td>-23.8219</td>\n",
       "      <td>-64.7847</td>\n",
       "      <td>Oil</td>\n",
       "      <td>31.000</td>\n",
       "    </tr>\n",
       "    <tr>\n",
       "      <th>104</th>\n",
       "      <td>ARG</td>\n",
       "      <td>BARILOCHE (PUERTO  MORENO)</td>\n",
       "      <td>-41.1167</td>\n",
       "      <td>-71.4167</td>\n",
       "      <td>Oil</td>\n",
       "      <td>5.736</td>\n",
       "    </tr>\n",
       "    <tr>\n",
       "      <th>106</th>\n",
       "      <td>ARG</td>\n",
       "      <td>BERNARDO  DE IRIGOYEN</td>\n",
       "      <td>-26.2545</td>\n",
       "      <td>-53.6469</td>\n",
       "      <td>Oil</td>\n",
       "      <td>2.096</td>\n",
       "    </tr>\n",
       "  </tbody>\n",
       "</table>\n",
       "</div>"
      ],
      "text/plain": [
       "    country                        name  latitude  longitude primary_fuel  \\\n",
       "96      ARG             ALMIRANTE BROWN  -34.8386   -58.4033          Oil   \n",
       "98      ARG                     ALUMINE  -39.2145   -70.9157          Oil   \n",
       "103     ARG                     BANDERA  -23.8219   -64.7847          Oil   \n",
       "104     ARG  BARILOCHE (PUERTO  MORENO)  -41.1167   -71.4167          Oil   \n",
       "106     ARG       BERNARDO  DE IRIGOYEN  -26.2545   -53.6469          Oil   \n",
       "\n",
       "     capacity_mw  \n",
       "96        25.000  \n",
       "98         1.904  \n",
       "103       31.000  \n",
       "104        5.736  \n",
       "106        2.096  "
      ]
     },
     "execution_count": 163,
     "metadata": {},
     "output_type": "execute_result"
    }
   ],
   "source": [
    "oil_plants = data.loc[(data['country'].isin(countries)) & (data['primary_fuel']=='Oil')]\n",
    "oil_plants.to_csv(\"s3://losterosundatathon2023/oil_plants.csv\")\n",
    "oil_plants.head()"
   ]
  },
  {
   "cell_type": "code",
   "execution_count": 164,
   "id": "1c5500bc-17e1-4847-97ab-eef61dbdb215",
   "metadata": {
    "tags": []
   },
   "outputs": [
    {
     "data": {
      "text/html": [
       "<div>\n",
       "<style scoped>\n",
       "    .dataframe tbody tr th:only-of-type {\n",
       "        vertical-align: middle;\n",
       "    }\n",
       "\n",
       "    .dataframe tbody tr th {\n",
       "        vertical-align: top;\n",
       "    }\n",
       "\n",
       "    .dataframe thead th {\n",
       "        text-align: right;\n",
       "    }\n",
       "</style>\n",
       "<table border=\"1\" class=\"dataframe\">\n",
       "  <thead>\n",
       "    <tr style=\"text-align: right;\">\n",
       "      <th></th>\n",
       "      <th>country</th>\n",
       "      <th>name</th>\n",
       "      <th>latitude</th>\n",
       "      <th>longitude</th>\n",
       "      <th>primary_fuel</th>\n",
       "      <th>capacity_mw</th>\n",
       "    </tr>\n",
       "  </thead>\n",
       "  <tbody>\n",
       "    <tr>\n",
       "      <th>93</th>\n",
       "      <td>ARG</td>\n",
       "      <td>AGUA DEL CAJON (GENERADOR DEL MEM)</td>\n",
       "      <td>-38.9368</td>\n",
       "      <td>-68.3556</td>\n",
       "      <td>Gas</td>\n",
       "      <td>192.00</td>\n",
       "    </tr>\n",
       "    <tr>\n",
       "      <th>97</th>\n",
       "      <td>ARG</td>\n",
       "      <td>ALTO VALLE</td>\n",
       "      <td>-38.9524</td>\n",
       "      <td>-68.0218</td>\n",
       "      <td>Gas</td>\n",
       "      <td>97.50</td>\n",
       "    </tr>\n",
       "    <tr>\n",
       "      <th>120</th>\n",
       "      <td>ARG</td>\n",
       "      <td>CENTRAL LOMA DE LA LATA SA</td>\n",
       "      <td>-38.5127</td>\n",
       "      <td>-68.6048</td>\n",
       "      <td>Gas</td>\n",
       "      <td>540.00</td>\n",
       "    </tr>\n",
       "    <tr>\n",
       "      <th>122</th>\n",
       "      <td>ARG</td>\n",
       "      <td>CENTRAL T.GENELBA</td>\n",
       "      <td>-34.9027</td>\n",
       "      <td>-58.7334</td>\n",
       "      <td>Gas</td>\n",
       "      <td>673.60</td>\n",
       "    </tr>\n",
       "    <tr>\n",
       "      <th>123</th>\n",
       "      <td>ARG</td>\n",
       "      <td>CENTRAL T.GENELBA PLUS</td>\n",
       "      <td>-34.9027</td>\n",
       "      <td>-58.7334</td>\n",
       "      <td>Gas</td>\n",
       "      <td>164.55</td>\n",
       "    </tr>\n",
       "  </tbody>\n",
       "</table>\n",
       "</div>"
      ],
      "text/plain": [
       "    country                                name  latitude  longitude  \\\n",
       "93      ARG  AGUA DEL CAJON (GENERADOR DEL MEM)  -38.9368   -68.3556   \n",
       "97      ARG                          ALTO VALLE  -38.9524   -68.0218   \n",
       "120     ARG          CENTRAL LOMA DE LA LATA SA  -38.5127   -68.6048   \n",
       "122     ARG                   CENTRAL T.GENELBA  -34.9027   -58.7334   \n",
       "123     ARG              CENTRAL T.GENELBA PLUS  -34.9027   -58.7334   \n",
       "\n",
       "    primary_fuel  capacity_mw  \n",
       "93           Gas       192.00  \n",
       "97           Gas        97.50  \n",
       "120          Gas       540.00  \n",
       "122          Gas       673.60  \n",
       "123          Gas       164.55  "
      ]
     },
     "execution_count": 164,
     "metadata": {},
     "output_type": "execute_result"
    }
   ],
   "source": [
    "gas_plants = data.loc[(data['country'].isin(countries)) & (data['primary_fuel']=='Gas')]\n",
    "gas_plants.to_csv(\"s3://losterosundatathon2023/gas_plants.csv\")\n",
    "gas_plants.head()"
   ]
  },
  {
   "cell_type": "code",
   "execution_count": 165,
   "id": "ecc41ca1-1c31-4838-abdf-dd1b0b6c4877",
   "metadata": {},
   "outputs": [
    {
     "data": {
      "text/html": [
       "<div>\n",
       "<style scoped>\n",
       "    .dataframe tbody tr th:only-of-type {\n",
       "        vertical-align: middle;\n",
       "    }\n",
       "\n",
       "    .dataframe tbody tr th {\n",
       "        vertical-align: top;\n",
       "    }\n",
       "\n",
       "    .dataframe thead th {\n",
       "        text-align: right;\n",
       "    }\n",
       "</style>\n",
       "<table border=\"1\" class=\"dataframe\">\n",
       "  <thead>\n",
       "    <tr style=\"text-align: right;\">\n",
       "      <th></th>\n",
       "      <th>country</th>\n",
       "      <th>name</th>\n",
       "      <th>latitude</th>\n",
       "      <th>longitude</th>\n",
       "      <th>primary_fuel</th>\n",
       "      <th>capacity_mw</th>\n",
       "    </tr>\n",
       "  </thead>\n",
       "  <tbody>\n",
       "    <tr>\n",
       "      <th>119</th>\n",
       "      <td>ARG</td>\n",
       "      <td>CENTRAL BAHIA BLANCA (PIEDRA BUENA) SA</td>\n",
       "      <td>-38.7872</td>\n",
       "      <td>-62.2536</td>\n",
       "      <td>Coal</td>\n",
       "      <td>620.0</td>\n",
       "    </tr>\n",
       "    <tr>\n",
       "      <th>126</th>\n",
       "      <td>ARG</td>\n",
       "      <td>CENTRAL TERMICA GÜEMES SA</td>\n",
       "      <td>-24.6894</td>\n",
       "      <td>-65.0425</td>\n",
       "      <td>Coal</td>\n",
       "      <td>361.0</td>\n",
       "    </tr>\n",
       "    <tr>\n",
       "      <th>141</th>\n",
       "      <td>ARG</td>\n",
       "      <td>COSTANERA</td>\n",
       "      <td>-34.6260</td>\n",
       "      <td>-58.3393</td>\n",
       "      <td>Coal</td>\n",
       "      <td>1982.2</td>\n",
       "    </tr>\n",
       "    <tr>\n",
       "      <th>164</th>\n",
       "      <td>ARG</td>\n",
       "      <td>CT ECOENERGIA (PETROBRAS)</td>\n",
       "      <td>-38.6871</td>\n",
       "      <td>-62.3961</td>\n",
       "      <td>Coal</td>\n",
       "      <td>13.2</td>\n",
       "    </tr>\n",
       "    <tr>\n",
       "      <th>268</th>\n",
       "      <td>ARG</td>\n",
       "      <td>NECOCHEA</td>\n",
       "      <td>-38.5785</td>\n",
       "      <td>-58.7108</td>\n",
       "      <td>Coal</td>\n",
       "      <td>206.0</td>\n",
       "    </tr>\n",
       "  </tbody>\n",
       "</table>\n",
       "</div>"
      ],
      "text/plain": [
       "    country                                    name  latitude  longitude  \\\n",
       "119     ARG  CENTRAL BAHIA BLANCA (PIEDRA BUENA) SA  -38.7872   -62.2536   \n",
       "126     ARG               CENTRAL TERMICA GÜEMES SA  -24.6894   -65.0425   \n",
       "141     ARG                               COSTANERA  -34.6260   -58.3393   \n",
       "164     ARG               CT ECOENERGIA (PETROBRAS)  -38.6871   -62.3961   \n",
       "268     ARG                                NECOCHEA  -38.5785   -58.7108   \n",
       "\n",
       "    primary_fuel  capacity_mw  \n",
       "119         Coal        620.0  \n",
       "126         Coal        361.0  \n",
       "141         Coal       1982.2  \n",
       "164         Coal         13.2  \n",
       "268         Coal        206.0  "
      ]
     },
     "execution_count": 165,
     "metadata": {},
     "output_type": "execute_result"
    }
   ],
   "source": [
    "coal_plants = data.loc[(data['country'].isin(countries)) & (data['primary_fuel']=='Coal')]\n",
    "coal_plants.to_csv(\"s3://losterosundatathon2023/coal_plants.csv\")\n",
    "coal_plants.head()"
   ]
  },
  {
   "cell_type": "code",
   "execution_count": 166,
   "id": "d78ee506-6938-4c36-8248-6f47c8d9926e",
   "metadata": {
    "tags": []
   },
   "outputs": [
    {
     "data": {
      "text/plain": [
       "x                         98755\n",
       "y                         98755\n",
       "ARG_power-density_100m    98755\n",
       "dtype: int64"
      ]
     },
     "execution_count": 166,
     "metadata": {},
     "output_type": "execute_result"
    }
   ],
   "source": [
    "arg_power = pd.read_csv('s3://losterosundatathon2023/ARG_power.csv')\n",
    "arg_power = arg_power.loc[(arg_power['ARG_power-density_100m'] >= 300) & (arg_power['ARG_power-density_100m'] <= 2000)]\n",
    "arg_power.to_csv(\"s3://losterosundatathon2023/arg_power_300.csv\")\n",
    "arg_power.count()"
   ]
  },
  {
   "cell_type": "code",
   "execution_count": 167,
   "id": "29e74dd2-1cd8-4fdc-97f5-88818734dd7b",
   "metadata": {
    "tags": []
   },
   "outputs": [
    {
     "data": {
      "text/plain": [
       "country\n",
       "ARG    12\n",
       "Name: name, dtype: int64"
      ]
     },
     "execution_count": 167,
     "metadata": {},
     "output_type": "execute_result"
    }
   ],
   "source": [
    "wind_plants.groupby(['country'])['name'].count()"
   ]
  },
  {
   "cell_type": "code",
   "execution_count": 168,
   "id": "cfcdbf1b-f57b-4300-8c0a-fd64e9f785f4",
   "metadata": {
    "tags": []
   },
   "outputs": [
    {
     "data": {
      "text/plain": [
       "country\n",
       "ARG    7\n",
       "Name: name, dtype: int64"
      ]
     },
     "execution_count": 168,
     "metadata": {},
     "output_type": "execute_result"
    }
   ],
   "source": [
    "solar_plants.groupby(['country'])['name'].count()"
   ]
  },
  {
   "cell_type": "code",
   "execution_count": 169,
   "id": "98350036-9495-4a09-941c-e0565d297df7",
   "metadata": {
    "tags": []
   },
   "outputs": [
    {
     "data": {
      "text/plain": [
       "country\n",
       "ARG    50\n",
       "Name: name, dtype: int64"
      ]
     },
     "execution_count": 169,
     "metadata": {},
     "output_type": "execute_result"
    }
   ],
   "source": [
    "hydro_plants.groupby(['country'])['name'].count()"
   ]
  },
  {
   "cell_type": "code",
   "execution_count": 170,
   "id": "87adecf9-0b5b-4623-b1a7-28ead242d9da",
   "metadata": {
    "tags": []
   },
   "outputs": [
    {
     "data": {
      "text/plain": [
       "primary_fuel\n",
       "Coal        9\n",
       "Gas        57\n",
       "Hydro      50\n",
       "Nuclear     3\n",
       "Oil        96\n",
       "Other       2\n",
       "Solar       7\n",
       "Wind       12\n",
       "Name: primary_fuel, dtype: int64"
      ]
     },
     "execution_count": 170,
     "metadata": {},
     "output_type": "execute_result"
    }
   ],
   "source": [
    "data[data['country'].isin(countries)].groupby(['primary_fuel'])['primary_fuel'].count()"
   ]
  },
  {
   "cell_type": "code",
   "execution_count": null,
   "id": "d0cf494e-9171-49ab-b0f2-966a1e4bc58a",
   "metadata": {},
   "outputs": [],
   "source": []
  }
 ],
 "metadata": {
  "availableInstances": [
   {
    "_defaultOrder": 0,
    "_isFastLaunch": true,
    "category": "General purpose",
    "gpuNum": 0,
    "hideHardwareSpecs": false,
    "memoryGiB": 4,
    "name": "ml.t3.medium",
    "vcpuNum": 2
   },
   {
    "_defaultOrder": 1,
    "_isFastLaunch": false,
    "category": "General purpose",
    "gpuNum": 0,
    "hideHardwareSpecs": false,
    "memoryGiB": 8,
    "name": "ml.t3.large",
    "vcpuNum": 2
   },
   {
    "_defaultOrder": 2,
    "_isFastLaunch": false,
    "category": "General purpose",
    "gpuNum": 0,
    "hideHardwareSpecs": false,
    "memoryGiB": 16,
    "name": "ml.t3.xlarge",
    "vcpuNum": 4
   },
   {
    "_defaultOrder": 3,
    "_isFastLaunch": false,
    "category": "General purpose",
    "gpuNum": 0,
    "hideHardwareSpecs": false,
    "memoryGiB": 32,
    "name": "ml.t3.2xlarge",
    "vcpuNum": 8
   },
   {
    "_defaultOrder": 4,
    "_isFastLaunch": true,
    "category": "General purpose",
    "gpuNum": 0,
    "hideHardwareSpecs": false,
    "memoryGiB": 8,
    "name": "ml.m5.large",
    "vcpuNum": 2
   },
   {
    "_defaultOrder": 5,
    "_isFastLaunch": false,
    "category": "General purpose",
    "gpuNum": 0,
    "hideHardwareSpecs": false,
    "memoryGiB": 16,
    "name": "ml.m5.xlarge",
    "vcpuNum": 4
   },
   {
    "_defaultOrder": 6,
    "_isFastLaunch": false,
    "category": "General purpose",
    "gpuNum": 0,
    "hideHardwareSpecs": false,
    "memoryGiB": 32,
    "name": "ml.m5.2xlarge",
    "vcpuNum": 8
   },
   {
    "_defaultOrder": 7,
    "_isFastLaunch": false,
    "category": "General purpose",
    "gpuNum": 0,
    "hideHardwareSpecs": false,
    "memoryGiB": 64,
    "name": "ml.m5.4xlarge",
    "vcpuNum": 16
   },
   {
    "_defaultOrder": 8,
    "_isFastLaunch": false,
    "category": "General purpose",
    "gpuNum": 0,
    "hideHardwareSpecs": false,
    "memoryGiB": 128,
    "name": "ml.m5.8xlarge",
    "vcpuNum": 32
   },
   {
    "_defaultOrder": 9,
    "_isFastLaunch": false,
    "category": "General purpose",
    "gpuNum": 0,
    "hideHardwareSpecs": false,
    "memoryGiB": 192,
    "name": "ml.m5.12xlarge",
    "vcpuNum": 48
   },
   {
    "_defaultOrder": 10,
    "_isFastLaunch": false,
    "category": "General purpose",
    "gpuNum": 0,
    "hideHardwareSpecs": false,
    "memoryGiB": 256,
    "name": "ml.m5.16xlarge",
    "vcpuNum": 64
   },
   {
    "_defaultOrder": 11,
    "_isFastLaunch": false,
    "category": "General purpose",
    "gpuNum": 0,
    "hideHardwareSpecs": false,
    "memoryGiB": 384,
    "name": "ml.m5.24xlarge",
    "vcpuNum": 96
   },
   {
    "_defaultOrder": 12,
    "_isFastLaunch": false,
    "category": "General purpose",
    "gpuNum": 0,
    "hideHardwareSpecs": false,
    "memoryGiB": 8,
    "name": "ml.m5d.large",
    "vcpuNum": 2
   },
   {
    "_defaultOrder": 13,
    "_isFastLaunch": false,
    "category": "General purpose",
    "gpuNum": 0,
    "hideHardwareSpecs": false,
    "memoryGiB": 16,
    "name": "ml.m5d.xlarge",
    "vcpuNum": 4
   },
   {
    "_defaultOrder": 14,
    "_isFastLaunch": false,
    "category": "General purpose",
    "gpuNum": 0,
    "hideHardwareSpecs": false,
    "memoryGiB": 32,
    "name": "ml.m5d.2xlarge",
    "vcpuNum": 8
   },
   {
    "_defaultOrder": 15,
    "_isFastLaunch": false,
    "category": "General purpose",
    "gpuNum": 0,
    "hideHardwareSpecs": false,
    "memoryGiB": 64,
    "name": "ml.m5d.4xlarge",
    "vcpuNum": 16
   },
   {
    "_defaultOrder": 16,
    "_isFastLaunch": false,
    "category": "General purpose",
    "gpuNum": 0,
    "hideHardwareSpecs": false,
    "memoryGiB": 128,
    "name": "ml.m5d.8xlarge",
    "vcpuNum": 32
   },
   {
    "_defaultOrder": 17,
    "_isFastLaunch": false,
    "category": "General purpose",
    "gpuNum": 0,
    "hideHardwareSpecs": false,
    "memoryGiB": 192,
    "name": "ml.m5d.12xlarge",
    "vcpuNum": 48
   },
   {
    "_defaultOrder": 18,
    "_isFastLaunch": false,
    "category": "General purpose",
    "gpuNum": 0,
    "hideHardwareSpecs": false,
    "memoryGiB": 256,
    "name": "ml.m5d.16xlarge",
    "vcpuNum": 64
   },
   {
    "_defaultOrder": 19,
    "_isFastLaunch": false,
    "category": "General purpose",
    "gpuNum": 0,
    "hideHardwareSpecs": false,
    "memoryGiB": 384,
    "name": "ml.m5d.24xlarge",
    "vcpuNum": 96
   },
   {
    "_defaultOrder": 20,
    "_isFastLaunch": false,
    "category": "General purpose",
    "gpuNum": 0,
    "hideHardwareSpecs": true,
    "memoryGiB": 0,
    "name": "ml.geospatial.interactive",
    "supportedImageNames": [
     "sagemaker-geospatial-v1-0"
    ],
    "vcpuNum": 0
   },
   {
    "_defaultOrder": 21,
    "_isFastLaunch": true,
    "category": "Compute optimized",
    "gpuNum": 0,
    "hideHardwareSpecs": false,
    "memoryGiB": 4,
    "name": "ml.c5.large",
    "vcpuNum": 2
   },
   {
    "_defaultOrder": 22,
    "_isFastLaunch": false,
    "category": "Compute optimized",
    "gpuNum": 0,
    "hideHardwareSpecs": false,
    "memoryGiB": 8,
    "name": "ml.c5.xlarge",
    "vcpuNum": 4
   },
   {
    "_defaultOrder": 23,
    "_isFastLaunch": false,
    "category": "Compute optimized",
    "gpuNum": 0,
    "hideHardwareSpecs": false,
    "memoryGiB": 16,
    "name": "ml.c5.2xlarge",
    "vcpuNum": 8
   },
   {
    "_defaultOrder": 24,
    "_isFastLaunch": false,
    "category": "Compute optimized",
    "gpuNum": 0,
    "hideHardwareSpecs": false,
    "memoryGiB": 32,
    "name": "ml.c5.4xlarge",
    "vcpuNum": 16
   },
   {
    "_defaultOrder": 25,
    "_isFastLaunch": false,
    "category": "Compute optimized",
    "gpuNum": 0,
    "hideHardwareSpecs": false,
    "memoryGiB": 72,
    "name": "ml.c5.9xlarge",
    "vcpuNum": 36
   },
   {
    "_defaultOrder": 26,
    "_isFastLaunch": false,
    "category": "Compute optimized",
    "gpuNum": 0,
    "hideHardwareSpecs": false,
    "memoryGiB": 96,
    "name": "ml.c5.12xlarge",
    "vcpuNum": 48
   },
   {
    "_defaultOrder": 27,
    "_isFastLaunch": false,
    "category": "Compute optimized",
    "gpuNum": 0,
    "hideHardwareSpecs": false,
    "memoryGiB": 144,
    "name": "ml.c5.18xlarge",
    "vcpuNum": 72
   },
   {
    "_defaultOrder": 28,
    "_isFastLaunch": false,
    "category": "Compute optimized",
    "gpuNum": 0,
    "hideHardwareSpecs": false,
    "memoryGiB": 192,
    "name": "ml.c5.24xlarge",
    "vcpuNum": 96
   },
   {
    "_defaultOrder": 29,
    "_isFastLaunch": true,
    "category": "Accelerated computing",
    "gpuNum": 1,
    "hideHardwareSpecs": false,
    "memoryGiB": 16,
    "name": "ml.g4dn.xlarge",
    "vcpuNum": 4
   },
   {
    "_defaultOrder": 30,
    "_isFastLaunch": false,
    "category": "Accelerated computing",
    "gpuNum": 1,
    "hideHardwareSpecs": false,
    "memoryGiB": 32,
    "name": "ml.g4dn.2xlarge",
    "vcpuNum": 8
   },
   {
    "_defaultOrder": 31,
    "_isFastLaunch": false,
    "category": "Accelerated computing",
    "gpuNum": 1,
    "hideHardwareSpecs": false,
    "memoryGiB": 64,
    "name": "ml.g4dn.4xlarge",
    "vcpuNum": 16
   },
   {
    "_defaultOrder": 32,
    "_isFastLaunch": false,
    "category": "Accelerated computing",
    "gpuNum": 1,
    "hideHardwareSpecs": false,
    "memoryGiB": 128,
    "name": "ml.g4dn.8xlarge",
    "vcpuNum": 32
   },
   {
    "_defaultOrder": 33,
    "_isFastLaunch": false,
    "category": "Accelerated computing",
    "gpuNum": 4,
    "hideHardwareSpecs": false,
    "memoryGiB": 192,
    "name": "ml.g4dn.12xlarge",
    "vcpuNum": 48
   },
   {
    "_defaultOrder": 34,
    "_isFastLaunch": false,
    "category": "Accelerated computing",
    "gpuNum": 1,
    "hideHardwareSpecs": false,
    "memoryGiB": 256,
    "name": "ml.g4dn.16xlarge",
    "vcpuNum": 64
   },
   {
    "_defaultOrder": 35,
    "_isFastLaunch": false,
    "category": "Accelerated computing",
    "gpuNum": 1,
    "hideHardwareSpecs": false,
    "memoryGiB": 61,
    "name": "ml.p3.2xlarge",
    "vcpuNum": 8
   },
   {
    "_defaultOrder": 36,
    "_isFastLaunch": false,
    "category": "Accelerated computing",
    "gpuNum": 4,
    "hideHardwareSpecs": false,
    "memoryGiB": 244,
    "name": "ml.p3.8xlarge",
    "vcpuNum": 32
   },
   {
    "_defaultOrder": 37,
    "_isFastLaunch": false,
    "category": "Accelerated computing",
    "gpuNum": 8,
    "hideHardwareSpecs": false,
    "memoryGiB": 488,
    "name": "ml.p3.16xlarge",
    "vcpuNum": 64
   },
   {
    "_defaultOrder": 38,
    "_isFastLaunch": false,
    "category": "Accelerated computing",
    "gpuNum": 8,
    "hideHardwareSpecs": false,
    "memoryGiB": 768,
    "name": "ml.p3dn.24xlarge",
    "vcpuNum": 96
   },
   {
    "_defaultOrder": 39,
    "_isFastLaunch": false,
    "category": "Memory Optimized",
    "gpuNum": 0,
    "hideHardwareSpecs": false,
    "memoryGiB": 16,
    "name": "ml.r5.large",
    "vcpuNum": 2
   },
   {
    "_defaultOrder": 40,
    "_isFastLaunch": false,
    "category": "Memory Optimized",
    "gpuNum": 0,
    "hideHardwareSpecs": false,
    "memoryGiB": 32,
    "name": "ml.r5.xlarge",
    "vcpuNum": 4
   },
   {
    "_defaultOrder": 41,
    "_isFastLaunch": false,
    "category": "Memory Optimized",
    "gpuNum": 0,
    "hideHardwareSpecs": false,
    "memoryGiB": 64,
    "name": "ml.r5.2xlarge",
    "vcpuNum": 8
   },
   {
    "_defaultOrder": 42,
    "_isFastLaunch": false,
    "category": "Memory Optimized",
    "gpuNum": 0,
    "hideHardwareSpecs": false,
    "memoryGiB": 128,
    "name": "ml.r5.4xlarge",
    "vcpuNum": 16
   },
   {
    "_defaultOrder": 43,
    "_isFastLaunch": false,
    "category": "Memory Optimized",
    "gpuNum": 0,
    "hideHardwareSpecs": false,
    "memoryGiB": 256,
    "name": "ml.r5.8xlarge",
    "vcpuNum": 32
   },
   {
    "_defaultOrder": 44,
    "_isFastLaunch": false,
    "category": "Memory Optimized",
    "gpuNum": 0,
    "hideHardwareSpecs": false,
    "memoryGiB": 384,
    "name": "ml.r5.12xlarge",
    "vcpuNum": 48
   },
   {
    "_defaultOrder": 45,
    "_isFastLaunch": false,
    "category": "Memory Optimized",
    "gpuNum": 0,
    "hideHardwareSpecs": false,
    "memoryGiB": 512,
    "name": "ml.r5.16xlarge",
    "vcpuNum": 64
   },
   {
    "_defaultOrder": 46,
    "_isFastLaunch": false,
    "category": "Memory Optimized",
    "gpuNum": 0,
    "hideHardwareSpecs": false,
    "memoryGiB": 768,
    "name": "ml.r5.24xlarge",
    "vcpuNum": 96
   },
   {
    "_defaultOrder": 47,
    "_isFastLaunch": false,
    "category": "Accelerated computing",
    "gpuNum": 1,
    "hideHardwareSpecs": false,
    "memoryGiB": 16,
    "name": "ml.g5.xlarge",
    "vcpuNum": 4
   },
   {
    "_defaultOrder": 48,
    "_isFastLaunch": false,
    "category": "Accelerated computing",
    "gpuNum": 1,
    "hideHardwareSpecs": false,
    "memoryGiB": 32,
    "name": "ml.g5.2xlarge",
    "vcpuNum": 8
   },
   {
    "_defaultOrder": 49,
    "_isFastLaunch": false,
    "category": "Accelerated computing",
    "gpuNum": 1,
    "hideHardwareSpecs": false,
    "memoryGiB": 64,
    "name": "ml.g5.4xlarge",
    "vcpuNum": 16
   },
   {
    "_defaultOrder": 50,
    "_isFastLaunch": false,
    "category": "Accelerated computing",
    "gpuNum": 1,
    "hideHardwareSpecs": false,
    "memoryGiB": 128,
    "name": "ml.g5.8xlarge",
    "vcpuNum": 32
   },
   {
    "_defaultOrder": 51,
    "_isFastLaunch": false,
    "category": "Accelerated computing",
    "gpuNum": 1,
    "hideHardwareSpecs": false,
    "memoryGiB": 256,
    "name": "ml.g5.16xlarge",
    "vcpuNum": 64
   },
   {
    "_defaultOrder": 52,
    "_isFastLaunch": false,
    "category": "Accelerated computing",
    "gpuNum": 4,
    "hideHardwareSpecs": false,
    "memoryGiB": 192,
    "name": "ml.g5.12xlarge",
    "vcpuNum": 48
   },
   {
    "_defaultOrder": 53,
    "_isFastLaunch": false,
    "category": "Accelerated computing",
    "gpuNum": 4,
    "hideHardwareSpecs": false,
    "memoryGiB": 384,
    "name": "ml.g5.24xlarge",
    "vcpuNum": 96
   },
   {
    "_defaultOrder": 54,
    "_isFastLaunch": false,
    "category": "Accelerated computing",
    "gpuNum": 8,
    "hideHardwareSpecs": false,
    "memoryGiB": 768,
    "name": "ml.g5.48xlarge",
    "vcpuNum": 192
   },
   {
    "_defaultOrder": 55,
    "_isFastLaunch": false,
    "category": "Accelerated computing",
    "gpuNum": 8,
    "hideHardwareSpecs": false,
    "memoryGiB": 1152,
    "name": "ml.p4d.24xlarge",
    "vcpuNum": 96
   },
   {
    "_defaultOrder": 56,
    "_isFastLaunch": false,
    "category": "Accelerated computing",
    "gpuNum": 8,
    "hideHardwareSpecs": false,
    "memoryGiB": 1152,
    "name": "ml.p4de.24xlarge",
    "vcpuNum": 96
   }
  ],
  "instance_type": "ml.t3.medium",
  "kernelspec": {
   "display_name": "Python 3 (Data Science 3.0)",
   "language": "python",
   "name": "python3__SAGEMAKER_INTERNAL__arn:aws:sagemaker:sa-east-1:782484402741:image/sagemaker-data-science-310-v1"
  },
  "language_info": {
   "codemirror_mode": {
    "name": "ipython",
    "version": 3
   },
   "file_extension": ".py",
   "mimetype": "text/x-python",
   "name": "python",
   "nbconvert_exporter": "python",
   "pygments_lexer": "ipython3",
   "version": "3.10.6"
  }
 },
 "nbformat": 4,
 "nbformat_minor": 5
}
